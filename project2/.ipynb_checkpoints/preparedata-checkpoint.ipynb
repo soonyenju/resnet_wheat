{
 "cells": [
  {
   "cell_type": "code",
   "execution_count": null,
   "metadata": {},
   "outputs": [],
   "source": [
    "import torch.utils.data\n",
    "import torch\n",
    "from trochvision import transforms"
   ]
  },
  {
   "cell_type": "markdown",
   "metadata": {},
   "source": [
    "torch.util.data: 子类化自定义的数据\n",
    "\n",
    "transforms: 对数据预处理\n",
    "\n",
    "[官方文档](https://pytorch-cn.readthedocs.io/zh/latest/)"
   ]
  },
  {
   "cell_type": "markdown",
   "metadata": {},
   "source": [
    "```\n",
    "class DataPrep(torch.utils.data.Dataset)\n",
    "```\n",
    "所有其他数据集都应该进行子类化。\n",
    "所有子类应该override__len__和__getitem__，前者提供了数据集的大小，后者支持整数索引，范围从0到len(self)。\n",
    "当然还有个初始化__init__()类：属性+方法，__init__()就是定义自己的属性"
   ]
  },
  {
   "cell_type": "code",
   "execution_count": null,
   "metadata": {},
   "outputs": [],
   "source": [
    "\n",
    "class DataPrep(torch.utils.data.Dataset) #子类化\n",
    "  def __init__(self, root, transform=None, train=True): #第一步初始化各个变量\n",
    " \n",
    "    self.root = root   \n",
    "    self.train = train\n",
    " \n",
    "  def __getitem__(self, idx): #第二步装载数据，返回[img,label]，idx就是一张一张地读取\n",
    "      # get item  获取  数据 \n",
    " \n",
    "      img = imread(img_path) #img_path根据自己的数据自定义，灵活性很高\n",
    "      img = torch.from_numpy(img).float() #需要转成float\n",
    " \n",
    "      gt = imread(gt_path)  #读取gt，如果是分类问题，可以根据文件夹或命名赋值 0 1  \n",
    "      gt = torch.from_numpy(gt).float()\n",
    " \n",
    "      return img, gt #返回  一一对应\n",
    " \n",
    "  def __len__(self):"
   ]
  },
  {
   "cell_type": "code",
   "execution_count": 1,
   "metadata": {},
   "outputs": [],
   "source": [
    "#encoding:utf-8\n",
    "import torch.utils.data as data\n",
    "import torch\n",
    " \n",
    "from scipy.ndimage import imread\n",
    "import os\n",
    "import os.path\n",
    "import glob\n",
    " \n",
    "from torchvision import transforms\n",
    " \n",
    "def make_dataset(root, train=True): #读取自己的数据的函数\n",
    " \n",
    "  dataset = []\n",
    " \n",
    "  if train:\n",
    "    dirgt = os.path.join(root, 'train_data/groundtruth') \n",
    "    dirimg = os.path.join(root, 'train_data/imgs')\n",
    " \n",
    "    for fGT in glob.glob(os.path.join(dirgt, '*.jpg')):\n",
    "    # for k in range(45)\n",
    "      fName = os.path.basename(fGT)    \n",
    "      fImg = 'train_ori'+fName[8:]\n",
    "      dataset.append( [os.path.join(dirimg, fImg), os.path.join(dirgt, fName)] )\n",
    " \n",
    "  return dataset\n",
    " \n",
    "#自定義dataset的框架\n",
    "class MyTrainData(data.Dataset):   #需要繼承data.Dataset\n",
    " \n",
    "  def __init__(self, root, transform=None, train=True): #初始化文件路進或文件名\n",
    "    self.train = train\n",
    "    if self.train:\n",
    "      self.train_set_path = make_dataset(root, train)\n",
    " \n",
    "  def __getitem__(self, idx):\n",
    "    if self.train:\n",
    "      img_path, gt_path = self.train_set_path[idx]\n",
    " \n",
    "      img = imread(img_path)\n",
    "      img = np.atleast_3d(img).transpose(2, 0, 1).astype(np.float32)\n",
    "      img = (img - img.min()) / (img.max() - img.min())\n",
    "      img = torch.from_numpy(img).float()\n",
    " \n",
    "      gt = imread(gt_path)\n",
    "      gt = np.atleast_3d(gt).transpose(2, 0, 1)\n",
    "      gt = gt / 255.0\n",
    "      gt = torch.from_numpy(gt).float()\n",
    " \n",
    "      return img, gt  \n",
    " \n",
    "  def __len__(self):\n",
    " \n",
    "    return len(self.train_set_path)\n"
   ]
  },
  {
   "cell_type": "code",
   "execution_count": null,
   "metadata": {},
   "outputs": [],
   "source": []
  }
 ],
 "metadata": {
  "kernelspec": {
   "display_name": "Python 3",
   "language": "python",
   "name": "python3"
  },
  "language_info": {
   "codemirror_mode": {
    "name": "ipython",
    "version": 3
   },
   "file_extension": ".py",
   "mimetype": "text/x-python",
   "name": "python",
   "nbconvert_exporter": "python",
   "pygments_lexer": "ipython3",
   "version": "3.6.1"
  }
 },
 "nbformat": 4,
 "nbformat_minor": 2
}
